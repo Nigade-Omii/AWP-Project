{
 "cells": [
  {
   "cell_type": "code",
   "execution_count": 1,
   "id": "db1e17ee-7f4d-4f34-82f4-16a5c3a05b4b",
   "metadata": {},
   "outputs": [],
   "source": [
    "import numpy as np\n",
    "import pandas as pd\n"
   ]
  },
  {
   "cell_type": "code",
   "execution_count": 2,
   "id": "dc2ca715-e78c-4529-91f5-abfece1980c9",
   "metadata": {},
   "outputs": [],
   "source": [
    "df=pd.read_excel('Dry_Bean_Dataset.xlsx')"
   ]
  },
  {
   "cell_type": "code",
   "execution_count": 3,
   "id": "af7b0273-4201-497e-aaa7-8a67165075cb",
   "metadata": {},
   "outputs": [
    {
     "data": {
      "text/html": [
       "<div>\n",
       "<style scoped>\n",
       "    .dataframe tbody tr th:only-of-type {\n",
       "        vertical-align: middle;\n",
       "    }\n",
       "\n",
       "    .dataframe tbody tr th {\n",
       "        vertical-align: top;\n",
       "    }\n",
       "\n",
       "    .dataframe thead th {\n",
       "        text-align: right;\n",
       "    }\n",
       "</style>\n",
       "<table border=\"1\" class=\"dataframe\">\n",
       "  <thead>\n",
       "    <tr style=\"text-align: right;\">\n",
       "      <th></th>\n",
       "      <th>Area</th>\n",
       "      <th>Perimeter</th>\n",
       "      <th>MajorAxisLength</th>\n",
       "      <th>MinorAxisLength</th>\n",
       "      <th>AspectRation</th>\n",
       "      <th>Eccentricity</th>\n",
       "      <th>ConvexArea</th>\n",
       "      <th>EquivDiameter</th>\n",
       "      <th>Extent</th>\n",
       "      <th>Solidity</th>\n",
       "      <th>roundness</th>\n",
       "      <th>Compactness</th>\n",
       "      <th>ShapeFactor1</th>\n",
       "      <th>ShapeFactor2</th>\n",
       "      <th>ShapeFactor3</th>\n",
       "      <th>ShapeFactor4</th>\n",
       "      <th>Class</th>\n",
       "    </tr>\n",
       "  </thead>\n",
       "  <tbody>\n",
       "    <tr>\n",
       "      <th>0</th>\n",
       "      <td>28395</td>\n",
       "      <td>610.291</td>\n",
       "      <td>208.178117</td>\n",
       "      <td>173.888747</td>\n",
       "      <td>1.197191</td>\n",
       "      <td>0.549812</td>\n",
       "      <td>28715</td>\n",
       "      <td>190.141097</td>\n",
       "      <td>0.763923</td>\n",
       "      <td>0.988856</td>\n",
       "      <td>0.958027</td>\n",
       "      <td>0.913358</td>\n",
       "      <td>0.007332</td>\n",
       "      <td>0.003147</td>\n",
       "      <td>0.834222</td>\n",
       "      <td>0.998724</td>\n",
       "      <td>SEKER</td>\n",
       "    </tr>\n",
       "    <tr>\n",
       "      <th>1</th>\n",
       "      <td>28734</td>\n",
       "      <td>638.018</td>\n",
       "      <td>200.524796</td>\n",
       "      <td>182.734419</td>\n",
       "      <td>1.097356</td>\n",
       "      <td>0.411785</td>\n",
       "      <td>29172</td>\n",
       "      <td>191.272750</td>\n",
       "      <td>0.783968</td>\n",
       "      <td>0.984986</td>\n",
       "      <td>0.887034</td>\n",
       "      <td>0.953861</td>\n",
       "      <td>0.006979</td>\n",
       "      <td>0.003564</td>\n",
       "      <td>0.909851</td>\n",
       "      <td>0.998430</td>\n",
       "      <td>SEKER</td>\n",
       "    </tr>\n",
       "    <tr>\n",
       "      <th>2</th>\n",
       "      <td>29380</td>\n",
       "      <td>624.110</td>\n",
       "      <td>212.826130</td>\n",
       "      <td>175.931143</td>\n",
       "      <td>1.209713</td>\n",
       "      <td>0.562727</td>\n",
       "      <td>29690</td>\n",
       "      <td>193.410904</td>\n",
       "      <td>0.778113</td>\n",
       "      <td>0.989559</td>\n",
       "      <td>0.947849</td>\n",
       "      <td>0.908774</td>\n",
       "      <td>0.007244</td>\n",
       "      <td>0.003048</td>\n",
       "      <td>0.825871</td>\n",
       "      <td>0.999066</td>\n",
       "      <td>SEKER</td>\n",
       "    </tr>\n",
       "    <tr>\n",
       "      <th>3</th>\n",
       "      <td>30008</td>\n",
       "      <td>645.884</td>\n",
       "      <td>210.557999</td>\n",
       "      <td>182.516516</td>\n",
       "      <td>1.153638</td>\n",
       "      <td>0.498616</td>\n",
       "      <td>30724</td>\n",
       "      <td>195.467062</td>\n",
       "      <td>0.782681</td>\n",
       "      <td>0.976696</td>\n",
       "      <td>0.903936</td>\n",
       "      <td>0.928329</td>\n",
       "      <td>0.007017</td>\n",
       "      <td>0.003215</td>\n",
       "      <td>0.861794</td>\n",
       "      <td>0.994199</td>\n",
       "      <td>SEKER</td>\n",
       "    </tr>\n",
       "    <tr>\n",
       "      <th>4</th>\n",
       "      <td>30140</td>\n",
       "      <td>620.134</td>\n",
       "      <td>201.847882</td>\n",
       "      <td>190.279279</td>\n",
       "      <td>1.060798</td>\n",
       "      <td>0.333680</td>\n",
       "      <td>30417</td>\n",
       "      <td>195.896503</td>\n",
       "      <td>0.773098</td>\n",
       "      <td>0.990893</td>\n",
       "      <td>0.984877</td>\n",
       "      <td>0.970516</td>\n",
       "      <td>0.006697</td>\n",
       "      <td>0.003665</td>\n",
       "      <td>0.941900</td>\n",
       "      <td>0.999166</td>\n",
       "      <td>SEKER</td>\n",
       "    </tr>\n",
       "  </tbody>\n",
       "</table>\n",
       "</div>"
      ],
      "text/plain": [
       "    Area  Perimeter  MajorAxisLength  MinorAxisLength  AspectRation  \\\n",
       "0  28395    610.291       208.178117       173.888747      1.197191   \n",
       "1  28734    638.018       200.524796       182.734419      1.097356   \n",
       "2  29380    624.110       212.826130       175.931143      1.209713   \n",
       "3  30008    645.884       210.557999       182.516516      1.153638   \n",
       "4  30140    620.134       201.847882       190.279279      1.060798   \n",
       "\n",
       "   Eccentricity  ConvexArea  EquivDiameter    Extent  Solidity  roundness  \\\n",
       "0      0.549812       28715     190.141097  0.763923  0.988856   0.958027   \n",
       "1      0.411785       29172     191.272750  0.783968  0.984986   0.887034   \n",
       "2      0.562727       29690     193.410904  0.778113  0.989559   0.947849   \n",
       "3      0.498616       30724     195.467062  0.782681  0.976696   0.903936   \n",
       "4      0.333680       30417     195.896503  0.773098  0.990893   0.984877   \n",
       "\n",
       "   Compactness  ShapeFactor1  ShapeFactor2  ShapeFactor3  ShapeFactor4  Class  \n",
       "0     0.913358      0.007332      0.003147      0.834222      0.998724  SEKER  \n",
       "1     0.953861      0.006979      0.003564      0.909851      0.998430  SEKER  \n",
       "2     0.908774      0.007244      0.003048      0.825871      0.999066  SEKER  \n",
       "3     0.928329      0.007017      0.003215      0.861794      0.994199  SEKER  \n",
       "4     0.970516      0.006697      0.003665      0.941900      0.999166  SEKER  "
      ]
     },
     "execution_count": 3,
     "metadata": {},
     "output_type": "execute_result"
    }
   ],
   "source": [
    "df.head()"
   ]
  },
  {
   "cell_type": "code",
   "execution_count": 4,
   "id": "264a794d-809d-4745-b84f-45e0c3c0e983",
   "metadata": {},
   "outputs": [
    {
     "data": {
      "text/html": [
       "<div>\n",
       "<style scoped>\n",
       "    .dataframe tbody tr th:only-of-type {\n",
       "        vertical-align: middle;\n",
       "    }\n",
       "\n",
       "    .dataframe tbody tr th {\n",
       "        vertical-align: top;\n",
       "    }\n",
       "\n",
       "    .dataframe thead th {\n",
       "        text-align: right;\n",
       "    }\n",
       "</style>\n",
       "<table border=\"1\" class=\"dataframe\">\n",
       "  <thead>\n",
       "    <tr style=\"text-align: right;\">\n",
       "      <th></th>\n",
       "      <th>Area</th>\n",
       "      <th>Perimeter</th>\n",
       "      <th>MajorAxisLength</th>\n",
       "      <th>MinorAxisLength</th>\n",
       "      <th>AspectRation</th>\n",
       "      <th>Eccentricity</th>\n",
       "      <th>ConvexArea</th>\n",
       "      <th>EquivDiameter</th>\n",
       "      <th>Extent</th>\n",
       "      <th>Solidity</th>\n",
       "      <th>roundness</th>\n",
       "      <th>Compactness</th>\n",
       "      <th>ShapeFactor1</th>\n",
       "      <th>ShapeFactor2</th>\n",
       "      <th>ShapeFactor3</th>\n",
       "      <th>ShapeFactor4</th>\n",
       "      <th>Class</th>\n",
       "    </tr>\n",
       "  </thead>\n",
       "  <tbody>\n",
       "    <tr>\n",
       "      <th>13606</th>\n",
       "      <td>42097</td>\n",
       "      <td>759.696</td>\n",
       "      <td>288.721612</td>\n",
       "      <td>185.944705</td>\n",
       "      <td>1.552728</td>\n",
       "      <td>0.765002</td>\n",
       "      <td>42508</td>\n",
       "      <td>231.515799</td>\n",
       "      <td>0.714574</td>\n",
       "      <td>0.990331</td>\n",
       "      <td>0.916603</td>\n",
       "      <td>0.801865</td>\n",
       "      <td>0.006858</td>\n",
       "      <td>0.001749</td>\n",
       "      <td>0.642988</td>\n",
       "      <td>0.998385</td>\n",
       "      <td>DERMASON</td>\n",
       "    </tr>\n",
       "    <tr>\n",
       "      <th>13607</th>\n",
       "      <td>42101</td>\n",
       "      <td>757.499</td>\n",
       "      <td>281.576392</td>\n",
       "      <td>190.713136</td>\n",
       "      <td>1.476439</td>\n",
       "      <td>0.735702</td>\n",
       "      <td>42494</td>\n",
       "      <td>231.526798</td>\n",
       "      <td>0.799943</td>\n",
       "      <td>0.990752</td>\n",
       "      <td>0.922015</td>\n",
       "      <td>0.822252</td>\n",
       "      <td>0.006688</td>\n",
       "      <td>0.001886</td>\n",
       "      <td>0.676099</td>\n",
       "      <td>0.998219</td>\n",
       "      <td>DERMASON</td>\n",
       "    </tr>\n",
       "    <tr>\n",
       "      <th>13608</th>\n",
       "      <td>42139</td>\n",
       "      <td>759.321</td>\n",
       "      <td>281.539928</td>\n",
       "      <td>191.187979</td>\n",
       "      <td>1.472582</td>\n",
       "      <td>0.734065</td>\n",
       "      <td>42569</td>\n",
       "      <td>231.631261</td>\n",
       "      <td>0.729932</td>\n",
       "      <td>0.989899</td>\n",
       "      <td>0.918424</td>\n",
       "      <td>0.822730</td>\n",
       "      <td>0.006681</td>\n",
       "      <td>0.001888</td>\n",
       "      <td>0.676884</td>\n",
       "      <td>0.996767</td>\n",
       "      <td>DERMASON</td>\n",
       "    </tr>\n",
       "    <tr>\n",
       "      <th>13609</th>\n",
       "      <td>42147</td>\n",
       "      <td>763.779</td>\n",
       "      <td>283.382636</td>\n",
       "      <td>190.275731</td>\n",
       "      <td>1.489326</td>\n",
       "      <td>0.741055</td>\n",
       "      <td>42667</td>\n",
       "      <td>231.653248</td>\n",
       "      <td>0.705389</td>\n",
       "      <td>0.987813</td>\n",
       "      <td>0.907906</td>\n",
       "      <td>0.817457</td>\n",
       "      <td>0.006724</td>\n",
       "      <td>0.001852</td>\n",
       "      <td>0.668237</td>\n",
       "      <td>0.995222</td>\n",
       "      <td>DERMASON</td>\n",
       "    </tr>\n",
       "    <tr>\n",
       "      <th>13610</th>\n",
       "      <td>42159</td>\n",
       "      <td>772.237</td>\n",
       "      <td>295.142741</td>\n",
       "      <td>182.204716</td>\n",
       "      <td>1.619841</td>\n",
       "      <td>0.786693</td>\n",
       "      <td>42600</td>\n",
       "      <td>231.686223</td>\n",
       "      <td>0.788962</td>\n",
       "      <td>0.989648</td>\n",
       "      <td>0.888380</td>\n",
       "      <td>0.784997</td>\n",
       "      <td>0.007001</td>\n",
       "      <td>0.001640</td>\n",
       "      <td>0.616221</td>\n",
       "      <td>0.998180</td>\n",
       "      <td>DERMASON</td>\n",
       "    </tr>\n",
       "  </tbody>\n",
       "</table>\n",
       "</div>"
      ],
      "text/plain": [
       "        Area  Perimeter  MajorAxisLength  MinorAxisLength  AspectRation  \\\n",
       "13606  42097    759.696       288.721612       185.944705      1.552728   \n",
       "13607  42101    757.499       281.576392       190.713136      1.476439   \n",
       "13608  42139    759.321       281.539928       191.187979      1.472582   \n",
       "13609  42147    763.779       283.382636       190.275731      1.489326   \n",
       "13610  42159    772.237       295.142741       182.204716      1.619841   \n",
       "\n",
       "       Eccentricity  ConvexArea  EquivDiameter    Extent  Solidity  roundness  \\\n",
       "13606      0.765002       42508     231.515799  0.714574  0.990331   0.916603   \n",
       "13607      0.735702       42494     231.526798  0.799943  0.990752   0.922015   \n",
       "13608      0.734065       42569     231.631261  0.729932  0.989899   0.918424   \n",
       "13609      0.741055       42667     231.653248  0.705389  0.987813   0.907906   \n",
       "13610      0.786693       42600     231.686223  0.788962  0.989648   0.888380   \n",
       "\n",
       "       Compactness  ShapeFactor1  ShapeFactor2  ShapeFactor3  ShapeFactor4  \\\n",
       "13606     0.801865      0.006858      0.001749      0.642988      0.998385   \n",
       "13607     0.822252      0.006688      0.001886      0.676099      0.998219   \n",
       "13608     0.822730      0.006681      0.001888      0.676884      0.996767   \n",
       "13609     0.817457      0.006724      0.001852      0.668237      0.995222   \n",
       "13610     0.784997      0.007001      0.001640      0.616221      0.998180   \n",
       "\n",
       "          Class  \n",
       "13606  DERMASON  \n",
       "13607  DERMASON  \n",
       "13608  DERMASON  \n",
       "13609  DERMASON  \n",
       "13610  DERMASON  "
      ]
     },
     "execution_count": 4,
     "metadata": {},
     "output_type": "execute_result"
    }
   ],
   "source": [
    "df.tail()"
   ]
  },
  {
   "cell_type": "code",
   "execution_count": 5,
   "id": "0c279eb1-081b-4249-b947-e10b176da64b",
   "metadata": {},
   "outputs": [
    {
     "data": {
      "text/plain": [
       "231387"
      ]
     },
     "execution_count": 5,
     "metadata": {},
     "output_type": "execute_result"
    }
   ],
   "source": [
    "df.size"
   ]
  },
  {
   "cell_type": "code",
   "execution_count": 6,
   "id": "61d9b83b-db8b-469b-89d1-2657d927be10",
   "metadata": {},
   "outputs": [
    {
     "data": {
      "text/plain": [
       "(13611, 17)"
      ]
     },
     "execution_count": 6,
     "metadata": {},
     "output_type": "execute_result"
    }
   ],
   "source": [
    "df.shape"
   ]
  },
  {
   "cell_type": "code",
   "execution_count": 7,
   "id": "61938672-461c-4932-9349-d7f4774c4037",
   "metadata": {},
   "outputs": [
    {
     "name": "stdout",
     "output_type": "stream",
     "text": [
      "<class 'pandas.core.frame.DataFrame'>\n",
      "RangeIndex: 13611 entries, 0 to 13610\n",
      "Data columns (total 17 columns):\n",
      " #   Column           Non-Null Count  Dtype  \n",
      "---  ------           --------------  -----  \n",
      " 0   Area             13611 non-null  int64  \n",
      " 1   Perimeter        13611 non-null  float64\n",
      " 2   MajorAxisLength  13611 non-null  float64\n",
      " 3   MinorAxisLength  13611 non-null  float64\n",
      " 4   AspectRation     13611 non-null  float64\n",
      " 5   Eccentricity     13611 non-null  float64\n",
      " 6   ConvexArea       13611 non-null  int64  \n",
      " 7   EquivDiameter    13611 non-null  float64\n",
      " 8   Extent           13611 non-null  float64\n",
      " 9   Solidity         13611 non-null  float64\n",
      " 10  roundness        13611 non-null  float64\n",
      " 11  Compactness      13611 non-null  float64\n",
      " 12  ShapeFactor1     13611 non-null  float64\n",
      " 13  ShapeFactor2     13611 non-null  float64\n",
      " 14  ShapeFactor3     13611 non-null  float64\n",
      " 15  ShapeFactor4     13611 non-null  float64\n",
      " 16  Class            13611 non-null  object \n",
      "dtypes: float64(14), int64(2), object(1)\n",
      "memory usage: 1.8+ MB\n"
     ]
    }
   ],
   "source": [
    "df.info()"
   ]
  },
  {
   "cell_type": "code",
   "execution_count": 8,
   "id": "89183738-8cab-4821-8b88-175ac3e8b134",
   "metadata": {},
   "outputs": [
    {
     "data": {
      "text/html": [
       "<div>\n",
       "<style scoped>\n",
       "    .dataframe tbody tr th:only-of-type {\n",
       "        vertical-align: middle;\n",
       "    }\n",
       "\n",
       "    .dataframe tbody tr th {\n",
       "        vertical-align: top;\n",
       "    }\n",
       "\n",
       "    .dataframe thead th {\n",
       "        text-align: right;\n",
       "    }\n",
       "</style>\n",
       "<table border=\"1\" class=\"dataframe\">\n",
       "  <thead>\n",
       "    <tr style=\"text-align: right;\">\n",
       "      <th></th>\n",
       "      <th>Area</th>\n",
       "      <th>Perimeter</th>\n",
       "      <th>MajorAxisLength</th>\n",
       "      <th>MinorAxisLength</th>\n",
       "      <th>AspectRation</th>\n",
       "      <th>Eccentricity</th>\n",
       "      <th>ConvexArea</th>\n",
       "      <th>EquivDiameter</th>\n",
       "      <th>Extent</th>\n",
       "      <th>Solidity</th>\n",
       "      <th>roundness</th>\n",
       "      <th>Compactness</th>\n",
       "      <th>ShapeFactor1</th>\n",
       "      <th>ShapeFactor2</th>\n",
       "      <th>ShapeFactor3</th>\n",
       "      <th>ShapeFactor4</th>\n",
       "    </tr>\n",
       "  </thead>\n",
       "  <tbody>\n",
       "    <tr>\n",
       "      <th>count</th>\n",
       "      <td>13611.000000</td>\n",
       "      <td>13611.000000</td>\n",
       "      <td>13611.000000</td>\n",
       "      <td>13611.000000</td>\n",
       "      <td>13611.000000</td>\n",
       "      <td>13611.000000</td>\n",
       "      <td>13611.000000</td>\n",
       "      <td>13611.000000</td>\n",
       "      <td>13611.000000</td>\n",
       "      <td>13611.000000</td>\n",
       "      <td>13611.000000</td>\n",
       "      <td>13611.000000</td>\n",
       "      <td>13611.000000</td>\n",
       "      <td>13611.000000</td>\n",
       "      <td>13611.000000</td>\n",
       "      <td>13611.000000</td>\n",
       "    </tr>\n",
       "    <tr>\n",
       "      <th>mean</th>\n",
       "      <td>53048.284549</td>\n",
       "      <td>855.283459</td>\n",
       "      <td>320.141867</td>\n",
       "      <td>202.270714</td>\n",
       "      <td>1.583242</td>\n",
       "      <td>0.750895</td>\n",
       "      <td>53768.200206</td>\n",
       "      <td>253.064220</td>\n",
       "      <td>0.749733</td>\n",
       "      <td>0.987143</td>\n",
       "      <td>0.873282</td>\n",
       "      <td>0.799864</td>\n",
       "      <td>0.006564</td>\n",
       "      <td>0.001716</td>\n",
       "      <td>0.643590</td>\n",
       "      <td>0.995063</td>\n",
       "    </tr>\n",
       "    <tr>\n",
       "      <th>std</th>\n",
       "      <td>29324.095717</td>\n",
       "      <td>214.289696</td>\n",
       "      <td>85.694186</td>\n",
       "      <td>44.970091</td>\n",
       "      <td>0.246678</td>\n",
       "      <td>0.092002</td>\n",
       "      <td>29774.915817</td>\n",
       "      <td>59.177120</td>\n",
       "      <td>0.049086</td>\n",
       "      <td>0.004660</td>\n",
       "      <td>0.059520</td>\n",
       "      <td>0.061713</td>\n",
       "      <td>0.001128</td>\n",
       "      <td>0.000596</td>\n",
       "      <td>0.098996</td>\n",
       "      <td>0.004366</td>\n",
       "    </tr>\n",
       "    <tr>\n",
       "      <th>min</th>\n",
       "      <td>20420.000000</td>\n",
       "      <td>524.736000</td>\n",
       "      <td>183.601165</td>\n",
       "      <td>122.512653</td>\n",
       "      <td>1.024868</td>\n",
       "      <td>0.218951</td>\n",
       "      <td>20684.000000</td>\n",
       "      <td>161.243764</td>\n",
       "      <td>0.555315</td>\n",
       "      <td>0.919246</td>\n",
       "      <td>0.489618</td>\n",
       "      <td>0.640577</td>\n",
       "      <td>0.002778</td>\n",
       "      <td>0.000564</td>\n",
       "      <td>0.410339</td>\n",
       "      <td>0.947687</td>\n",
       "    </tr>\n",
       "    <tr>\n",
       "      <th>25%</th>\n",
       "      <td>36328.000000</td>\n",
       "      <td>703.523500</td>\n",
       "      <td>253.303633</td>\n",
       "      <td>175.848170</td>\n",
       "      <td>1.432307</td>\n",
       "      <td>0.715928</td>\n",
       "      <td>36714.500000</td>\n",
       "      <td>215.068003</td>\n",
       "      <td>0.718634</td>\n",
       "      <td>0.985670</td>\n",
       "      <td>0.832096</td>\n",
       "      <td>0.762469</td>\n",
       "      <td>0.005900</td>\n",
       "      <td>0.001154</td>\n",
       "      <td>0.581359</td>\n",
       "      <td>0.993703</td>\n",
       "    </tr>\n",
       "    <tr>\n",
       "      <th>50%</th>\n",
       "      <td>44652.000000</td>\n",
       "      <td>794.941000</td>\n",
       "      <td>296.883367</td>\n",
       "      <td>192.431733</td>\n",
       "      <td>1.551124</td>\n",
       "      <td>0.764441</td>\n",
       "      <td>45178.000000</td>\n",
       "      <td>238.438026</td>\n",
       "      <td>0.759859</td>\n",
       "      <td>0.988283</td>\n",
       "      <td>0.883157</td>\n",
       "      <td>0.801277</td>\n",
       "      <td>0.006645</td>\n",
       "      <td>0.001694</td>\n",
       "      <td>0.642044</td>\n",
       "      <td>0.996386</td>\n",
       "    </tr>\n",
       "    <tr>\n",
       "      <th>75%</th>\n",
       "      <td>61332.000000</td>\n",
       "      <td>977.213000</td>\n",
       "      <td>376.495012</td>\n",
       "      <td>217.031741</td>\n",
       "      <td>1.707109</td>\n",
       "      <td>0.810466</td>\n",
       "      <td>62294.000000</td>\n",
       "      <td>279.446467</td>\n",
       "      <td>0.786851</td>\n",
       "      <td>0.990013</td>\n",
       "      <td>0.916869</td>\n",
       "      <td>0.834270</td>\n",
       "      <td>0.007271</td>\n",
       "      <td>0.002170</td>\n",
       "      <td>0.696006</td>\n",
       "      <td>0.997883</td>\n",
       "    </tr>\n",
       "    <tr>\n",
       "      <th>max</th>\n",
       "      <td>254616.000000</td>\n",
       "      <td>1985.370000</td>\n",
       "      <td>738.860153</td>\n",
       "      <td>460.198497</td>\n",
       "      <td>2.430306</td>\n",
       "      <td>0.911423</td>\n",
       "      <td>263261.000000</td>\n",
       "      <td>569.374358</td>\n",
       "      <td>0.866195</td>\n",
       "      <td>0.994677</td>\n",
       "      <td>0.990685</td>\n",
       "      <td>0.987303</td>\n",
       "      <td>0.010451</td>\n",
       "      <td>0.003665</td>\n",
       "      <td>0.974767</td>\n",
       "      <td>0.999733</td>\n",
       "    </tr>\n",
       "  </tbody>\n",
       "</table>\n",
       "</div>"
      ],
      "text/plain": [
       "                Area     Perimeter  MajorAxisLength  MinorAxisLength  \\\n",
       "count   13611.000000  13611.000000     13611.000000     13611.000000   \n",
       "mean    53048.284549    855.283459       320.141867       202.270714   \n",
       "std     29324.095717    214.289696        85.694186        44.970091   \n",
       "min     20420.000000    524.736000       183.601165       122.512653   \n",
       "25%     36328.000000    703.523500       253.303633       175.848170   \n",
       "50%     44652.000000    794.941000       296.883367       192.431733   \n",
       "75%     61332.000000    977.213000       376.495012       217.031741   \n",
       "max    254616.000000   1985.370000       738.860153       460.198497   \n",
       "\n",
       "       AspectRation  Eccentricity     ConvexArea  EquivDiameter        Extent  \\\n",
       "count  13611.000000  13611.000000   13611.000000   13611.000000  13611.000000   \n",
       "mean       1.583242      0.750895   53768.200206     253.064220      0.749733   \n",
       "std        0.246678      0.092002   29774.915817      59.177120      0.049086   \n",
       "min        1.024868      0.218951   20684.000000     161.243764      0.555315   \n",
       "25%        1.432307      0.715928   36714.500000     215.068003      0.718634   \n",
       "50%        1.551124      0.764441   45178.000000     238.438026      0.759859   \n",
       "75%        1.707109      0.810466   62294.000000     279.446467      0.786851   \n",
       "max        2.430306      0.911423  263261.000000     569.374358      0.866195   \n",
       "\n",
       "           Solidity     roundness   Compactness  ShapeFactor1  ShapeFactor2  \\\n",
       "count  13611.000000  13611.000000  13611.000000  13611.000000  13611.000000   \n",
       "mean       0.987143      0.873282      0.799864      0.006564      0.001716   \n",
       "std        0.004660      0.059520      0.061713      0.001128      0.000596   \n",
       "min        0.919246      0.489618      0.640577      0.002778      0.000564   \n",
       "25%        0.985670      0.832096      0.762469      0.005900      0.001154   \n",
       "50%        0.988283      0.883157      0.801277      0.006645      0.001694   \n",
       "75%        0.990013      0.916869      0.834270      0.007271      0.002170   \n",
       "max        0.994677      0.990685      0.987303      0.010451      0.003665   \n",
       "\n",
       "       ShapeFactor3  ShapeFactor4  \n",
       "count  13611.000000  13611.000000  \n",
       "mean       0.643590      0.995063  \n",
       "std        0.098996      0.004366  \n",
       "min        0.410339      0.947687  \n",
       "25%        0.581359      0.993703  \n",
       "50%        0.642044      0.996386  \n",
       "75%        0.696006      0.997883  \n",
       "max        0.974767      0.999733  "
      ]
     },
     "execution_count": 8,
     "metadata": {},
     "output_type": "execute_result"
    }
   ],
   "source": [
    "df.describe()"
   ]
  },
  {
   "cell_type": "code",
   "execution_count": 9,
   "id": "da65e7bc-3da5-43d3-a64b-8103752a2c54",
   "metadata": {},
   "outputs": [
    {
     "data": {
      "text/plain": [
       "Area               0\n",
       "Perimeter          0\n",
       "MajorAxisLength    0\n",
       "MinorAxisLength    0\n",
       "AspectRation       0\n",
       "Eccentricity       0\n",
       "ConvexArea         0\n",
       "EquivDiameter      0\n",
       "Extent             0\n",
       "Solidity           0\n",
       "roundness          0\n",
       "Compactness        0\n",
       "ShapeFactor1       0\n",
       "ShapeFactor2       0\n",
       "ShapeFactor3       0\n",
       "ShapeFactor4       0\n",
       "Class              0\n",
       "dtype: int64"
      ]
     },
     "execution_count": 9,
     "metadata": {},
     "output_type": "execute_result"
    }
   ],
   "source": [
    "df.isnull().sum()"
   ]
  },
  {
   "cell_type": "code",
   "execution_count": 10,
   "id": "68235054-823d-43fd-aa8c-838191587784",
   "metadata": {},
   "outputs": [],
   "source": [
    "# here no missing values are present"
   ]
  },
  {
   "cell_type": "code",
   "execution_count": 11,
   "id": "0011c1d9-61e5-4431-866f-db92f0e3160d",
   "metadata": {},
   "outputs": [
    {
     "data": {
      "text/plain": [
       "array(['SEKER', 'BARBUNYA', 'BOMBAY', 'CALI', 'HOROZ', 'SIRA', 'DERMASON'],\n",
       "      dtype=object)"
      ]
     },
     "execution_count": 11,
     "metadata": {},
     "output_type": "execute_result"
    }
   ],
   "source": [
    "df['Class'].unique()"
   ]
  },
  {
   "cell_type": "code",
   "execution_count": 12,
   "id": "2304b253-36ec-4afd-bfb5-51555e19e699",
   "metadata": {},
   "outputs": [
    {
     "data": {
      "text/plain": [
       "7"
      ]
     },
     "execution_count": 12,
     "metadata": {},
     "output_type": "execute_result"
    }
   ],
   "source": [
    "df['Class'].nunique()\n",
    "# here we can see that beans are classified into 7 different classes"
   ]
  },
  {
   "cell_type": "code",
   "execution_count": 13,
   "id": "18b66e51-32be-4bc2-9e9e-788956b141cb",
   "metadata": {},
   "outputs": [
    {
     "data": {
      "text/plain": [
       "DERMASON    3546\n",
       "SIRA        2636\n",
       "SEKER       2027\n",
       "HOROZ       1928\n",
       "CALI        1630\n",
       "BARBUNYA    1322\n",
       "BOMBAY       522\n",
       "Name: Class, dtype: int64"
      ]
     },
     "execution_count": 13,
     "metadata": {},
     "output_type": "execute_result"
    }
   ],
   "source": [
    "df['Class'].value_counts()"
   ]
  },
  {
   "cell_type": "code",
   "execution_count": null,
   "id": "07545ecf-93e7-4581-9d20-eac1aea6f8ea",
   "metadata": {},
   "outputs": [],
   "source": []
  },
  {
   "cell_type": "code",
   "execution_count": 14,
   "id": "7f8c3bbd-f1bb-4014-8de7-4e0bc20890b4",
   "metadata": {},
   "outputs": [
    {
     "data": {
      "text/html": [
       "<div>\n",
       "<style scoped>\n",
       "    .dataframe tbody tr th:only-of-type {\n",
       "        vertical-align: middle;\n",
       "    }\n",
       "\n",
       "    .dataframe tbody tr th {\n",
       "        vertical-align: top;\n",
       "    }\n",
       "\n",
       "    .dataframe thead th {\n",
       "        text-align: right;\n",
       "    }\n",
       "</style>\n",
       "<table border=\"1\" class=\"dataframe\">\n",
       "  <thead>\n",
       "    <tr style=\"text-align: right;\">\n",
       "      <th></th>\n",
       "      <th>Area</th>\n",
       "      <th>Perimeter</th>\n",
       "      <th>MajorAxisLength</th>\n",
       "      <th>MinorAxisLength</th>\n",
       "      <th>AspectRation</th>\n",
       "      <th>Eccentricity</th>\n",
       "      <th>ConvexArea</th>\n",
       "      <th>EquivDiameter</th>\n",
       "      <th>Extent</th>\n",
       "      <th>Solidity</th>\n",
       "      <th>roundness</th>\n",
       "      <th>Compactness</th>\n",
       "      <th>ShapeFactor1</th>\n",
       "      <th>ShapeFactor2</th>\n",
       "      <th>ShapeFactor3</th>\n",
       "      <th>ShapeFactor4</th>\n",
       "    </tr>\n",
       "  </thead>\n",
       "  <tbody>\n",
       "    <tr>\n",
       "      <th>Area</th>\n",
       "      <td>1.000000</td>\n",
       "      <td>0.966722</td>\n",
       "      <td>0.931834</td>\n",
       "      <td>0.951602</td>\n",
       "      <td>0.241735</td>\n",
       "      <td>0.267481</td>\n",
       "      <td>0.999939</td>\n",
       "      <td>0.984968</td>\n",
       "      <td>0.054345</td>\n",
       "      <td>-0.196585</td>\n",
       "      <td>-0.357530</td>\n",
       "      <td>-0.268067</td>\n",
       "      <td>-0.847958</td>\n",
       "      <td>-0.639291</td>\n",
       "      <td>-0.272145</td>\n",
       "      <td>-0.355721</td>\n",
       "    </tr>\n",
       "    <tr>\n",
       "      <th>Perimeter</th>\n",
       "      <td>0.966722</td>\n",
       "      <td>1.000000</td>\n",
       "      <td>0.977338</td>\n",
       "      <td>0.913179</td>\n",
       "      <td>0.385276</td>\n",
       "      <td>0.391066</td>\n",
       "      <td>0.967689</td>\n",
       "      <td>0.991380</td>\n",
       "      <td>-0.021160</td>\n",
       "      <td>-0.303970</td>\n",
       "      <td>-0.547647</td>\n",
       "      <td>-0.406857</td>\n",
       "      <td>-0.864623</td>\n",
       "      <td>-0.767592</td>\n",
       "      <td>-0.408435</td>\n",
       "      <td>-0.429310</td>\n",
       "    </tr>\n",
       "    <tr>\n",
       "      <th>MajorAxisLength</th>\n",
       "      <td>0.931834</td>\n",
       "      <td>0.977338</td>\n",
       "      <td>1.000000</td>\n",
       "      <td>0.826052</td>\n",
       "      <td>0.550335</td>\n",
       "      <td>0.541972</td>\n",
       "      <td>0.932607</td>\n",
       "      <td>0.961733</td>\n",
       "      <td>-0.078062</td>\n",
       "      <td>-0.284302</td>\n",
       "      <td>-0.596358</td>\n",
       "      <td>-0.568377</td>\n",
       "      <td>-0.773609</td>\n",
       "      <td>-0.859238</td>\n",
       "      <td>-0.568185</td>\n",
       "      <td>-0.482527</td>\n",
       "    </tr>\n",
       "    <tr>\n",
       "      <th>MinorAxisLength</th>\n",
       "      <td>0.951602</td>\n",
       "      <td>0.913179</td>\n",
       "      <td>0.826052</td>\n",
       "      <td>1.000000</td>\n",
       "      <td>-0.009161</td>\n",
       "      <td>0.019574</td>\n",
       "      <td>0.951339</td>\n",
       "      <td>0.948539</td>\n",
       "      <td>0.145957</td>\n",
       "      <td>-0.155831</td>\n",
       "      <td>-0.210344</td>\n",
       "      <td>-0.015066</td>\n",
       "      <td>-0.947204</td>\n",
       "      <td>-0.471347</td>\n",
       "      <td>-0.019326</td>\n",
       "      <td>-0.263749</td>\n",
       "    </tr>\n",
       "    <tr>\n",
       "      <th>AspectRation</th>\n",
       "      <td>0.241735</td>\n",
       "      <td>0.385276</td>\n",
       "      <td>0.550335</td>\n",
       "      <td>-0.009161</td>\n",
       "      <td>1.000000</td>\n",
       "      <td>0.924293</td>\n",
       "      <td>0.243301</td>\n",
       "      <td>0.303647</td>\n",
       "      <td>-0.370184</td>\n",
       "      <td>-0.267754</td>\n",
       "      <td>-0.766979</td>\n",
       "      <td>-0.987687</td>\n",
       "      <td>0.024593</td>\n",
       "      <td>-0.837841</td>\n",
       "      <td>-0.978592</td>\n",
       "      <td>-0.449264</td>\n",
       "    </tr>\n",
       "    <tr>\n",
       "      <th>Eccentricity</th>\n",
       "      <td>0.267481</td>\n",
       "      <td>0.391066</td>\n",
       "      <td>0.541972</td>\n",
       "      <td>0.019574</td>\n",
       "      <td>0.924293</td>\n",
       "      <td>1.000000</td>\n",
       "      <td>0.269255</td>\n",
       "      <td>0.318667</td>\n",
       "      <td>-0.319362</td>\n",
       "      <td>-0.297592</td>\n",
       "      <td>-0.722272</td>\n",
       "      <td>-0.970313</td>\n",
       "      <td>0.019920</td>\n",
       "      <td>-0.860141</td>\n",
       "      <td>-0.981058</td>\n",
       "      <td>-0.449354</td>\n",
       "    </tr>\n",
       "    <tr>\n",
       "      <th>ConvexArea</th>\n",
       "      <td>0.999939</td>\n",
       "      <td>0.967689</td>\n",
       "      <td>0.932607</td>\n",
       "      <td>0.951339</td>\n",
       "      <td>0.243301</td>\n",
       "      <td>0.269255</td>\n",
       "      <td>1.000000</td>\n",
       "      <td>0.985226</td>\n",
       "      <td>0.052564</td>\n",
       "      <td>-0.206191</td>\n",
       "      <td>-0.362083</td>\n",
       "      <td>-0.269922</td>\n",
       "      <td>-0.847950</td>\n",
       "      <td>-0.640862</td>\n",
       "      <td>-0.274024</td>\n",
       "      <td>-0.362049</td>\n",
       "    </tr>\n",
       "    <tr>\n",
       "      <th>EquivDiameter</th>\n",
       "      <td>0.984968</td>\n",
       "      <td>0.991380</td>\n",
       "      <td>0.961733</td>\n",
       "      <td>0.948539</td>\n",
       "      <td>0.303647</td>\n",
       "      <td>0.318667</td>\n",
       "      <td>0.985226</td>\n",
       "      <td>1.000000</td>\n",
       "      <td>0.028383</td>\n",
       "      <td>-0.231648</td>\n",
       "      <td>-0.435945</td>\n",
       "      <td>-0.327650</td>\n",
       "      <td>-0.892741</td>\n",
       "      <td>-0.713069</td>\n",
       "      <td>-0.330389</td>\n",
       "      <td>-0.392512</td>\n",
       "    </tr>\n",
       "    <tr>\n",
       "      <th>Extent</th>\n",
       "      <td>0.054345</td>\n",
       "      <td>-0.021160</td>\n",
       "      <td>-0.078062</td>\n",
       "      <td>0.145957</td>\n",
       "      <td>-0.370184</td>\n",
       "      <td>-0.319362</td>\n",
       "      <td>0.052564</td>\n",
       "      <td>0.028383</td>\n",
       "      <td>1.000000</td>\n",
       "      <td>0.191389</td>\n",
       "      <td>0.344411</td>\n",
       "      <td>0.354212</td>\n",
       "      <td>-0.141616</td>\n",
       "      <td>0.237956</td>\n",
       "      <td>0.347624</td>\n",
       "      <td>0.148502</td>\n",
       "    </tr>\n",
       "    <tr>\n",
       "      <th>Solidity</th>\n",
       "      <td>-0.196585</td>\n",
       "      <td>-0.303970</td>\n",
       "      <td>-0.284302</td>\n",
       "      <td>-0.155831</td>\n",
       "      <td>-0.267754</td>\n",
       "      <td>-0.297592</td>\n",
       "      <td>-0.206191</td>\n",
       "      <td>-0.231648</td>\n",
       "      <td>0.191389</td>\n",
       "      <td>1.000000</td>\n",
       "      <td>0.607150</td>\n",
       "      <td>0.303766</td>\n",
       "      <td>0.153388</td>\n",
       "      <td>0.343559</td>\n",
       "      <td>0.307662</td>\n",
       "      <td>0.702163</td>\n",
       "    </tr>\n",
       "    <tr>\n",
       "      <th>roundness</th>\n",
       "      <td>-0.357530</td>\n",
       "      <td>-0.547647</td>\n",
       "      <td>-0.596358</td>\n",
       "      <td>-0.210344</td>\n",
       "      <td>-0.766979</td>\n",
       "      <td>-0.722272</td>\n",
       "      <td>-0.362083</td>\n",
       "      <td>-0.435945</td>\n",
       "      <td>0.344411</td>\n",
       "      <td>0.607150</td>\n",
       "      <td>1.000000</td>\n",
       "      <td>0.768086</td>\n",
       "      <td>0.230273</td>\n",
       "      <td>0.782824</td>\n",
       "      <td>0.763126</td>\n",
       "      <td>0.472149</td>\n",
       "    </tr>\n",
       "    <tr>\n",
       "      <th>Compactness</th>\n",
       "      <td>-0.268067</td>\n",
       "      <td>-0.406857</td>\n",
       "      <td>-0.568377</td>\n",
       "      <td>-0.015066</td>\n",
       "      <td>-0.987687</td>\n",
       "      <td>-0.970313</td>\n",
       "      <td>-0.269922</td>\n",
       "      <td>-0.327650</td>\n",
       "      <td>0.354212</td>\n",
       "      <td>0.303766</td>\n",
       "      <td>0.768086</td>\n",
       "      <td>1.000000</td>\n",
       "      <td>-0.009394</td>\n",
       "      <td>0.868939</td>\n",
       "      <td>0.998686</td>\n",
       "      <td>0.484436</td>\n",
       "    </tr>\n",
       "    <tr>\n",
       "      <th>ShapeFactor1</th>\n",
       "      <td>-0.847958</td>\n",
       "      <td>-0.864623</td>\n",
       "      <td>-0.773609</td>\n",
       "      <td>-0.947204</td>\n",
       "      <td>0.024593</td>\n",
       "      <td>0.019920</td>\n",
       "      <td>-0.847950</td>\n",
       "      <td>-0.892741</td>\n",
       "      <td>-0.141616</td>\n",
       "      <td>0.153388</td>\n",
       "      <td>0.230273</td>\n",
       "      <td>-0.009394</td>\n",
       "      <td>1.000000</td>\n",
       "      <td>0.469197</td>\n",
       "      <td>-0.008320</td>\n",
       "      <td>0.248619</td>\n",
       "    </tr>\n",
       "    <tr>\n",
       "      <th>ShapeFactor2</th>\n",
       "      <td>-0.639291</td>\n",
       "      <td>-0.767592</td>\n",
       "      <td>-0.859238</td>\n",
       "      <td>-0.471347</td>\n",
       "      <td>-0.837841</td>\n",
       "      <td>-0.860141</td>\n",
       "      <td>-0.640862</td>\n",
       "      <td>-0.713069</td>\n",
       "      <td>0.237956</td>\n",
       "      <td>0.343559</td>\n",
       "      <td>0.782824</td>\n",
       "      <td>0.868939</td>\n",
       "      <td>0.469197</td>\n",
       "      <td>1.000000</td>\n",
       "      <td>0.872971</td>\n",
       "      <td>0.529932</td>\n",
       "    </tr>\n",
       "    <tr>\n",
       "      <th>ShapeFactor3</th>\n",
       "      <td>-0.272145</td>\n",
       "      <td>-0.408435</td>\n",
       "      <td>-0.568185</td>\n",
       "      <td>-0.019326</td>\n",
       "      <td>-0.978592</td>\n",
       "      <td>-0.981058</td>\n",
       "      <td>-0.274024</td>\n",
       "      <td>-0.330389</td>\n",
       "      <td>0.347624</td>\n",
       "      <td>0.307662</td>\n",
       "      <td>0.763126</td>\n",
       "      <td>0.998686</td>\n",
       "      <td>-0.008320</td>\n",
       "      <td>0.872971</td>\n",
       "      <td>1.000000</td>\n",
       "      <td>0.484274</td>\n",
       "    </tr>\n",
       "    <tr>\n",
       "      <th>ShapeFactor4</th>\n",
       "      <td>-0.355721</td>\n",
       "      <td>-0.429310</td>\n",
       "      <td>-0.482527</td>\n",
       "      <td>-0.263749</td>\n",
       "      <td>-0.449264</td>\n",
       "      <td>-0.449354</td>\n",
       "      <td>-0.362049</td>\n",
       "      <td>-0.392512</td>\n",
       "      <td>0.148502</td>\n",
       "      <td>0.702163</td>\n",
       "      <td>0.472149</td>\n",
       "      <td>0.484436</td>\n",
       "      <td>0.248619</td>\n",
       "      <td>0.529932</td>\n",
       "      <td>0.484274</td>\n",
       "      <td>1.000000</td>\n",
       "    </tr>\n",
       "  </tbody>\n",
       "</table>\n",
       "</div>"
      ],
      "text/plain": [
       "                     Area  Perimeter  MajorAxisLength  MinorAxisLength  \\\n",
       "Area             1.000000   0.966722         0.931834         0.951602   \n",
       "Perimeter        0.966722   1.000000         0.977338         0.913179   \n",
       "MajorAxisLength  0.931834   0.977338         1.000000         0.826052   \n",
       "MinorAxisLength  0.951602   0.913179         0.826052         1.000000   \n",
       "AspectRation     0.241735   0.385276         0.550335        -0.009161   \n",
       "Eccentricity     0.267481   0.391066         0.541972         0.019574   \n",
       "ConvexArea       0.999939   0.967689         0.932607         0.951339   \n",
       "EquivDiameter    0.984968   0.991380         0.961733         0.948539   \n",
       "Extent           0.054345  -0.021160        -0.078062         0.145957   \n",
       "Solidity        -0.196585  -0.303970        -0.284302        -0.155831   \n",
       "roundness       -0.357530  -0.547647        -0.596358        -0.210344   \n",
       "Compactness     -0.268067  -0.406857        -0.568377        -0.015066   \n",
       "ShapeFactor1    -0.847958  -0.864623        -0.773609        -0.947204   \n",
       "ShapeFactor2    -0.639291  -0.767592        -0.859238        -0.471347   \n",
       "ShapeFactor3    -0.272145  -0.408435        -0.568185        -0.019326   \n",
       "ShapeFactor4    -0.355721  -0.429310        -0.482527        -0.263749   \n",
       "\n",
       "                 AspectRation  Eccentricity  ConvexArea  EquivDiameter  \\\n",
       "Area                 0.241735      0.267481    0.999939       0.984968   \n",
       "Perimeter            0.385276      0.391066    0.967689       0.991380   \n",
       "MajorAxisLength      0.550335      0.541972    0.932607       0.961733   \n",
       "MinorAxisLength     -0.009161      0.019574    0.951339       0.948539   \n",
       "AspectRation         1.000000      0.924293    0.243301       0.303647   \n",
       "Eccentricity         0.924293      1.000000    0.269255       0.318667   \n",
       "ConvexArea           0.243301      0.269255    1.000000       0.985226   \n",
       "EquivDiameter        0.303647      0.318667    0.985226       1.000000   \n",
       "Extent              -0.370184     -0.319362    0.052564       0.028383   \n",
       "Solidity            -0.267754     -0.297592   -0.206191      -0.231648   \n",
       "roundness           -0.766979     -0.722272   -0.362083      -0.435945   \n",
       "Compactness         -0.987687     -0.970313   -0.269922      -0.327650   \n",
       "ShapeFactor1         0.024593      0.019920   -0.847950      -0.892741   \n",
       "ShapeFactor2        -0.837841     -0.860141   -0.640862      -0.713069   \n",
       "ShapeFactor3        -0.978592     -0.981058   -0.274024      -0.330389   \n",
       "ShapeFactor4        -0.449264     -0.449354   -0.362049      -0.392512   \n",
       "\n",
       "                   Extent  Solidity  roundness  Compactness  ShapeFactor1  \\\n",
       "Area             0.054345 -0.196585  -0.357530    -0.268067     -0.847958   \n",
       "Perimeter       -0.021160 -0.303970  -0.547647    -0.406857     -0.864623   \n",
       "MajorAxisLength -0.078062 -0.284302  -0.596358    -0.568377     -0.773609   \n",
       "MinorAxisLength  0.145957 -0.155831  -0.210344    -0.015066     -0.947204   \n",
       "AspectRation    -0.370184 -0.267754  -0.766979    -0.987687      0.024593   \n",
       "Eccentricity    -0.319362 -0.297592  -0.722272    -0.970313      0.019920   \n",
       "ConvexArea       0.052564 -0.206191  -0.362083    -0.269922     -0.847950   \n",
       "EquivDiameter    0.028383 -0.231648  -0.435945    -0.327650     -0.892741   \n",
       "Extent           1.000000  0.191389   0.344411     0.354212     -0.141616   \n",
       "Solidity         0.191389  1.000000   0.607150     0.303766      0.153388   \n",
       "roundness        0.344411  0.607150   1.000000     0.768086      0.230273   \n",
       "Compactness      0.354212  0.303766   0.768086     1.000000     -0.009394   \n",
       "ShapeFactor1    -0.141616  0.153388   0.230273    -0.009394      1.000000   \n",
       "ShapeFactor2     0.237956  0.343559   0.782824     0.868939      0.469197   \n",
       "ShapeFactor3     0.347624  0.307662   0.763126     0.998686     -0.008320   \n",
       "ShapeFactor4     0.148502  0.702163   0.472149     0.484436      0.248619   \n",
       "\n",
       "                 ShapeFactor2  ShapeFactor3  ShapeFactor4  \n",
       "Area                -0.639291     -0.272145     -0.355721  \n",
       "Perimeter           -0.767592     -0.408435     -0.429310  \n",
       "MajorAxisLength     -0.859238     -0.568185     -0.482527  \n",
       "MinorAxisLength     -0.471347     -0.019326     -0.263749  \n",
       "AspectRation        -0.837841     -0.978592     -0.449264  \n",
       "Eccentricity        -0.860141     -0.981058     -0.449354  \n",
       "ConvexArea          -0.640862     -0.274024     -0.362049  \n",
       "EquivDiameter       -0.713069     -0.330389     -0.392512  \n",
       "Extent               0.237956      0.347624      0.148502  \n",
       "Solidity             0.343559      0.307662      0.702163  \n",
       "roundness            0.782824      0.763126      0.472149  \n",
       "Compactness          0.868939      0.998686      0.484436  \n",
       "ShapeFactor1         0.469197     -0.008320      0.248619  \n",
       "ShapeFactor2         1.000000      0.872971      0.529932  \n",
       "ShapeFactor3         0.872971      1.000000      0.484274  \n",
       "ShapeFactor4         0.529932      0.484274      1.000000  "
      ]
     },
     "execution_count": 14,
     "metadata": {},
     "output_type": "execute_result"
    }
   ],
   "source": [
    "df.corr(method='pearson', min_periods=1)"
   ]
  },
  {
   "cell_type": "code",
   "execution_count": 15,
   "id": "50952384-1415-42ef-81c0-8cdb2bff6924",
   "metadata": {},
   "outputs": [],
   "source": [
    "import matplotlib.pyplot as plt\n",
    "import seaborn as sns\n",
    "from matplotlib import style"
   ]
  },
  {
   "cell_type": "code",
   "execution_count": 16,
   "id": "6bc3c9cd-b68f-407f-8a76-2cdfddf7250b",
   "metadata": {},
   "outputs": [
    {
     "data": {
      "text/plain": [
       "Text(0.5, 1.0, 'Number of Beans  vs  Class')"
      ]
     },
     "execution_count": 16,
     "metadata": {},
     "output_type": "execute_result"
    },
    {
     "data": {
      "image/png": "[encoded data removed]",
      "text/plain": [
       "<Figure size 864x360 with 1 Axes>"
      ]
     },
     "metadata": {
      "needs_background": "light"
     },
     "output_type": "display_data"
    }
   ],
   "source": [
    "plt.figure(figsize=(12,5))\n",
    "sns.countplot(x=df['Class'],order=df['Class'].value_counts().index.sort_values())\n",
    "plt.xlabel('Class',fontsize=12)\n",
    "plt.ylabel('No. Of Beans',fontsize=12)\n",
    "plt.title('Number of Beans  vs  Class',fontsize=16)"
   ]
  },
  {
   "cell_type": "code",
   "execution_count": 17,
   "id": "cc355ce7-34aa-4334-a669-2d5a7e81f1f0",
   "metadata": {},
   "outputs": [],
   "source": [
    "# From this count plot we can see that beans of  Dermason class are maximum i.e upto 3500 and beans of bombay class are minimum i.e less than 500"
   ]
  },
  {
   "cell_type": "code",
   "execution_count": 18,
   "id": "d4c9ebe4-3e60-42b9-a983-9ea9f2a14c1e",
   "metadata": {},
   "outputs": [
    {
     "data": {
      "text/plain": [
       "Class\n",
       "BARBUNYA     69804.133132\n",
       "BOMBAY      173485.059387\n",
       "CALI         75538.211043\n",
       "DERMASON     32118.710942\n",
       "HOROZ        53648.508817\n",
       "SEKER        39881.299951\n",
       "SIRA         44729.128604\n",
       "Name: Area, dtype: float64"
      ]
     },
     "execution_count": 18,
     "metadata": {},
     "output_type": "execute_result"
    }
   ],
   "source": [
    "x=df.groupby(\"Class\").mean()['Area']\n",
    "x"
   ]
  },
  {
   "cell_type": "code",
   "execution_count": 19,
   "id": "b9f8b793-5765-46e0-b784-3fb7d243fdf4",
   "metadata": {},
   "outputs": [],
   "source": [
    "# box plot for area of BOMBAY beans (Area in Pixel)\n",
    "# we can draw same for remaining 6 classes"
   ]
  },
  {
   "cell_type": "code",
   "execution_count": 20,
   "id": "a854ae4f-7f51-46f1-b154-166e03fc1f89",
   "metadata": {},
   "outputs": [
    {
     "data": {
      "image/png": "[encoded data removed]",
      "text/plain": [
       "<Figure size 432x288 with 1 Axes>"
      ]
     },
     "metadata": {
      "needs_background": "light"
     },
     "output_type": "display_data"
    }
   ],
   "source": [
    "df1 = pd.DataFrame(df[df[\"Class\"]=='BOMBAY']['Area'])\n",
    "df1.plot.box(grid='True');"
   ]
  },
  {
   "cell_type": "code",
   "execution_count": 21,
   "id": "5591bb76-f380-4cd0-a10f-91cf44b594e6",
   "metadata": {},
   "outputs": [
    {
     "data": {
      "image/png": "[encoded data removed]",
      "text/plain": [
       "<Figure size 432x288 with 1 Axes>"
      ]
     },
     "metadata": {
      "needs_background": "light"
     },
     "output_type": "display_data"
    }
   ],
   "source": [
    "df1=pd.DataFrame(df[df[\"Class\"]=='BARBUNYA']['Perimeter'])\n",
    "df1.plot.box();"
   ]
  },
  {
   "cell_type": "code",
   "execution_count": 22,
   "id": "0ea94f48-3029-46cc-a194-ed7eadd7317e",
   "metadata": {},
   "outputs": [
    {
     "data": {
      "image/png": "[encoded data removed]",
      "text/plain": [
       "<Figure size 432x288 with 1 Axes>"
      ]
     },
     "metadata": {
      "needs_background": "light"
     },
     "output_type": "display_data"
    }
   ],
   "source": [
    "df1=pd.DataFrame(df[df[\"Class\"]=='CALI']['MajorAxisLength'])\n",
    "df1.plot.box(grid='True');"
   ]
  },
  {
   "cell_type": "code",
   "execution_count": 23,
   "id": "3cc6faba-f638-40cd-94b2-6024ca6d7276",
   "metadata": {},
   "outputs": [
    {
     "data": {
      "text/plain": [
       "count     13611.000000\n",
       "mean      53768.200206\n",
       "std       29774.915817\n",
       "min       20684.000000\n",
       "25%       36714.500000\n",
       "50%       45178.000000\n",
       "75%       62294.000000\n",
       "max      263261.000000\n",
       "Name: ConvexArea, dtype: float64"
      ]
     },
     "execution_count": 23,
     "metadata": {},
     "output_type": "execute_result"
    }
   ],
   "source": [
    "df['ConvexArea'].describe()"
   ]
  },
  {
   "cell_type": "code",
   "execution_count": 24,
   "id": "a6289291-c57b-49ad-b91c-547ea3b88380",
   "metadata": {},
   "outputs": [
    {
     "data": {
      "text/plain": [
       "count    13611.000000\n",
       "mean         1.583242\n",
       "std          0.246678\n",
       "min          1.024868\n",
       "25%          1.432307\n",
       "50%          1.551124\n",
       "75%          1.707109\n",
       "max          2.430306\n",
       "Name: AspectRation, dtype: float64"
      ]
     },
     "execution_count": 24,
     "metadata": {},
     "output_type": "execute_result"
    }
   ],
   "source": [
    "df['AspectRation'].describe()"
   ]
  },
  {
   "cell_type": "code",
   "execution_count": 25,
   "id": "228a0f0e-c760-46c0-96bf-03ca78d6f07e",
   "metadata": {},
   "outputs": [
    {
     "data": {
      "image/png": "[encoded data removed]",
      "text/plain": [
       "<Figure size 864x432 with 1 Axes>"
      ]
     },
     "metadata": {},
     "output_type": "display_data"
    }
   ],
   "source": [
    "style.use('ggplot')\n",
    "plt.figure(figsize=(12,6))\n",
    "plt.plot((df[df[\"Class\"]=='CALI']['MajorAxisLength']),linewidth=0.5)\n",
    "plt.title('Major Axis Length of Beans for class CALI')\n",
    "plt.xlabel('No. of Observations')\n",
    "plt.ylabel('Major Axis Length')\n",
    "plt.grid(True,color='k')"
   ]
  },
  {
   "cell_type": "code",
   "execution_count": 26,
   "id": "29882aae-98e0-4b0b-87ec-7f9171b50b62",
   "metadata": {},
   "outputs": [
    {
     "data": {
      "text/html": [
       "<div>\n",
       "<style scoped>\n",
       "    .dataframe tbody tr th:only-of-type {\n",
       "        vertical-align: middle;\n",
       "    }\n",
       "\n",
       "    .dataframe tbody tr th {\n",
       "        vertical-align: top;\n",
       "    }\n",
       "\n",
       "    .dataframe thead th {\n",
       "        text-align: right;\n",
       "    }\n",
       "</style>\n",
       "<table border=\"1\" class=\"dataframe\">\n",
       "  <thead>\n",
       "    <tr style=\"text-align: right;\">\n",
       "      <th></th>\n",
       "      <th>Area</th>\n",
       "      <th>Perimeter</th>\n",
       "    </tr>\n",
       "  </thead>\n",
       "  <tbody>\n",
       "    <tr>\n",
       "      <th>Area</th>\n",
       "      <td>1.000000</td>\n",
       "      <td>0.966722</td>\n",
       "    </tr>\n",
       "    <tr>\n",
       "      <th>Perimeter</th>\n",
       "      <td>0.966722</td>\n",
       "      <td>1.000000</td>\n",
       "    </tr>\n",
       "  </tbody>\n",
       "</table>\n",
       "</div>"
      ],
      "text/plain": [
       "               Area  Perimeter\n",
       "Area       1.000000   0.966722\n",
       "Perimeter  0.966722   1.000000"
      ]
     },
     "execution_count": 26,
     "metadata": {},
     "output_type": "execute_result"
    }
   ],
   "source": [
    "df[['Area','Perimeter']].corr()"
   ]
  },
  {
   "cell_type": "code",
   "execution_count": 27,
   "id": "5b97db7d-6d52-4456-add4-87da375f9b47",
   "metadata": {},
   "outputs": [],
   "source": [
    "# here we see that Area and Perimeter has strongly positive correlation. it says that if area increases perimter also increses."
   ]
  },
  {
   "cell_type": "code",
   "execution_count": 28,
   "id": "55774cf9-0e78-4131-9e3b-ee3d0e536fd8",
   "metadata": {},
   "outputs": [
    {
     "data": {
      "text/html": [
       "<div>\n",
       "<style scoped>\n",
       "    .dataframe tbody tr th:only-of-type {\n",
       "        vertical-align: middle;\n",
       "    }\n",
       "\n",
       "    .dataframe tbody tr th {\n",
       "        vertical-align: top;\n",
       "    }\n",
       "\n",
       "    .dataframe thead th {\n",
       "        text-align: right;\n",
       "    }\n",
       "</style>\n",
       "<table border=\"1\" class=\"dataframe\">\n",
       "  <thead>\n",
       "    <tr style=\"text-align: right;\">\n",
       "      <th></th>\n",
       "      <th>Area</th>\n",
       "      <th>AspectRation</th>\n",
       "    </tr>\n",
       "  </thead>\n",
       "  <tbody>\n",
       "    <tr>\n",
       "      <th>Area</th>\n",
       "      <td>1.000000</td>\n",
       "      <td>0.241735</td>\n",
       "    </tr>\n",
       "    <tr>\n",
       "      <th>AspectRation</th>\n",
       "      <td>0.241735</td>\n",
       "      <td>1.000000</td>\n",
       "    </tr>\n",
       "  </tbody>\n",
       "</table>\n",
       "</div>"
      ],
      "text/plain": [
       "                  Area  AspectRation\n",
       "Area          1.000000      0.241735\n",
       "AspectRation  0.241735      1.000000"
      ]
     },
     "execution_count": 28,
     "metadata": {},
     "output_type": "execute_result"
    }
   ],
   "source": [
    "df[['Area','AspectRation']].corr()"
   ]
  },
  {
   "cell_type": "code",
   "execution_count": 29,
   "id": "2b73a92c-b05b-4b47-8d03-25fcdbb43e85",
   "metadata": {},
   "outputs": [],
   "source": [
    "# here we see that Major Axis Length and Aspect Ratio has no correlation"
   ]
  },
  {
   "cell_type": "code",
   "execution_count": 30,
   "id": "d736f97a-c6d9-4da0-8564-3b5a46745a6d",
   "metadata": {},
   "outputs": [
    {
     "data": {
      "text/html": [
       "<div>\n",
       "<style scoped>\n",
       "    .dataframe tbody tr th:only-of-type {\n",
       "        vertical-align: middle;\n",
       "    }\n",
       "\n",
       "    .dataframe tbody tr th {\n",
       "        vertical-align: top;\n",
       "    }\n",
       "\n",
       "    .dataframe thead th {\n",
       "        text-align: right;\n",
       "    }\n",
       "</style>\n",
       "<table border=\"1\" class=\"dataframe\">\n",
       "  <thead>\n",
       "    <tr style=\"text-align: right;\">\n",
       "      <th></th>\n",
       "      <th>MajorAxisLength</th>\n",
       "      <th>AspectRation</th>\n",
       "    </tr>\n",
       "  </thead>\n",
       "  <tbody>\n",
       "    <tr>\n",
       "      <th>MajorAxisLength</th>\n",
       "      <td>1.000000</td>\n",
       "      <td>0.550335</td>\n",
       "    </tr>\n",
       "    <tr>\n",
       "      <th>AspectRation</th>\n",
       "      <td>0.550335</td>\n",
       "      <td>1.000000</td>\n",
       "    </tr>\n",
       "  </tbody>\n",
       "</table>\n",
       "</div>"
      ],
      "text/plain": [
       "                 MajorAxisLength  AspectRation\n",
       "MajorAxisLength         1.000000      0.550335\n",
       "AspectRation            0.550335      1.000000"
      ]
     },
     "execution_count": 30,
     "metadata": {},
     "output_type": "execute_result"
    }
   ],
   "source": [
    "df[['MajorAxisLength','AspectRation']].corr()"
   ]
  },
  {
   "cell_type": "code",
   "execution_count": 31,
   "id": "2beda616-de89-49e8-a759-8fcab9d56af9",
   "metadata": {},
   "outputs": [],
   "source": [
    "# # here we see that Major Axis Length and Aspect Ratio has  positive correlation "
   ]
  },
  {
   "cell_type": "code",
   "execution_count": 32,
   "id": "40851cad-48aa-4618-aaf2-38ca7375463d",
   "metadata": {},
   "outputs": [
    {
     "data": {
      "text/html": [
       "<div>\n",
       "<style scoped>\n",
       "    .dataframe tbody tr th:only-of-type {\n",
       "        vertical-align: middle;\n",
       "    }\n",
       "\n",
       "    .dataframe tbody tr th {\n",
       "        vertical-align: top;\n",
       "    }\n",
       "\n",
       "    .dataframe thead th {\n",
       "        text-align: right;\n",
       "    }\n",
       "</style>\n",
       "<table border=\"1\" class=\"dataframe\">\n",
       "  <thead>\n",
       "    <tr style=\"text-align: right;\">\n",
       "      <th></th>\n",
       "      <th>Area</th>\n",
       "      <th>ConvexArea</th>\n",
       "    </tr>\n",
       "  </thead>\n",
       "  <tbody>\n",
       "    <tr>\n",
       "      <th>Area</th>\n",
       "      <td>1.000000</td>\n",
       "      <td>0.999939</td>\n",
       "    </tr>\n",
       "    <tr>\n",
       "      <th>ConvexArea</th>\n",
       "      <td>0.999939</td>\n",
       "      <td>1.000000</td>\n",
       "    </tr>\n",
       "  </tbody>\n",
       "</table>\n",
       "</div>"
      ],
      "text/plain": [
       "                Area  ConvexArea\n",
       "Area        1.000000    0.999939\n",
       "ConvexArea  0.999939    1.000000"
      ]
     },
     "execution_count": 32,
     "metadata": {},
     "output_type": "execute_result"
    }
   ],
   "source": [
    "df[['Area','ConvexArea']].corr()"
   ]
  },
  {
   "cell_type": "code",
   "execution_count": 33,
   "id": "ea489e5b-1e52-4bfb-8dce-2cd54928ba70",
   "metadata": {},
   "outputs": [],
   "source": [
    "# here we see that Area and convex area has strongly positive correlation."
   ]
  },
  {
   "cell_type": "code",
   "execution_count": 34,
   "id": "7fd42db7-d204-4555-8c1a-0af325a0b275",
   "metadata": {},
   "outputs": [
    {
     "data": {
      "text/plain": [
       "[<matplotlib.lines.Line2D at 0x240b1437fd0>]"
      ]
     },
     "execution_count": 34,
     "metadata": {},
     "output_type": "execute_result"
    },
    {
     "data": {
      "image/png": "[encoded data removed]",
      "text/plain": [
       "<Figure size 432x288 with 1 Axes>"
      ]
     },
     "metadata": {},
     "output_type": "display_data"
    }
   ],
   "source": [
    "plt.plot(df[\"Class\"],df['roundness'])"
   ]
  },
  {
   "cell_type": "code",
   "execution_count": 35,
   "id": "eff771de-4499-4f48-93fa-6e8b67ac1495",
   "metadata": {},
   "outputs": [
    {
     "data": {
      "image/png": "[encoded data removed]",
      "text/plain": [
       "<Figure size 864x360 with 1 Axes>"
      ]
     },
     "metadata": {},
     "output_type": "display_data"
    }
   ],
   "source": [
    "#percentage of wine type\n",
    "plt.figure(figsize=(12,5))\n",
    "plt.pie(df['Class'].value_counts(),\n",
    "        labels=df['Class'].value_counts().index,autopct='%1.2f%%');"
   ]
  },
  {
   "cell_type": "code",
   "execution_count": 36,
   "id": "bdf68921-c284-470a-b01a-71292666d4c0",
   "metadata": {},
   "outputs": [
    {
     "data": {
      "image/png": "[encoded data removed]",
      "text/plain": [
       "<Figure size 432x288 with 2 Axes>"
      ]
     },
     "metadata": {},
     "output_type": "display_data"
    }
   ],
   "source": [
    "sns.heatmap(df[['Area','Perimeter']]);"
   ]
  },
  {
   "cell_type": "code",
   "execution_count": 37,
   "id": "fe205b1b-287a-40ed-870d-2265f1df0dda",
   "metadata": {},
   "outputs": [
    {
     "data": {
      "image/png": "[encoded data removed]",
      "text/plain": [
       "<Figure size 432x288 with 2 Axes>"
      ]
     },
     "metadata": {},
     "output_type": "display_data"
    }
   ],
   "source": [
    "sns.heatmap(df[['MajorAxisLength','AspectRation']]);"
   ]
  },
  {
   "cell_type": "code",
   "execution_count": null,
   "id": "67ec19f0-4726-49c0-9860-e3dabc2df336",
   "metadata": {},
   "outputs": [],
   "source": []
  },
  {
   "cell_type": "code",
   "execution_count": null,
   "id": "1662b72c-6d52-4554-bf04-36ac24e3a7e9",
   "metadata": {},
   "outputs": [],
   "source": []
  },
  {
   "cell_type": "code",
   "execution_count": null,
   "id": "10b0084a-7df2-4e7a-9ffa-6843d2d7f1aa",
   "metadata": {},
   "outputs": [],
   "source": []
  },
  {
   "cell_type": "code",
   "execution_count": null,
   "id": "2376beda-179d-4a44-ac78-f639930eb0d3",
   "metadata": {},
   "outputs": [],
   "source": []
  }
 ],
 "metadata": {
  "kernelspec": {
   "display_name": "Python 3 (ipykernel)",
   "language": "python",
   "name": "python3"
  },
  "language_info": {
   "codemirror_mode": {
    "name": "ipython",
    "version": 3
   },
   "file_extension": ".py",
   "mimetype": "text/x-python",
   "name": "python",
   "nbconvert_exporter": "python",
   "pygments_lexer": "ipython3",
   "version": "3.9.7"
  }
 },
 "nbformat": 4,
 "nbformat_minor": 5
}
